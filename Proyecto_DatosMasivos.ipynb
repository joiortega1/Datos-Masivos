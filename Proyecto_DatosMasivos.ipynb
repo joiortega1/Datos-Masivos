{
  "nbformat": 4,
  "nbformat_minor": 0,
  "metadata": {
    "colab": {
      "name": "Proyecto_DatosMasivos.ipynb",
      "provenance": [],
      "collapsed_sections": []
    },
    "kernelspec": {
      "name": "python3",
      "display_name": "Python 3"
    }
  },
  "cells": [
    {
      "cell_type": "markdown",
      "metadata": {
        "id": "djomc1VGPTWl",
        "colab_type": "text"
      },
      "source": [
        ""
      ]
    },
    {
      "cell_type": "markdown",
      "metadata": {
        "id": "MXu9KgK5PV8v",
        "colab_type": "text"
      },
      "source": [
        "### Proyecto Datos Masivos\n",
        "- Ortega Ibarra Jaime Jesus.\n",
        "1. Genera un buscador de documentos usando índice inverso e identifica a los usuarios con\n",
        "gustos similares usando similitud de Jaccard, MinMax y Coseno.\n",
        "\n",
        "Datos por utilizar:\\\n",
        "https://www.kaggle.com/CooperUnion/anime-recommendations-database."
      ]
    },
    {
      "cell_type": "markdown",
      "metadata": {
        "id": "B_RTpLCHPstw",
        "colab_type": "text"
      },
      "source": [
        "Instalamos recursos necesarios para poder utilizar Spark dentro de nuestro entorno"
      ]
    },
    {
      "cell_type": "code",
      "metadata": {
        "id": "mzoC7Upzjc5R",
        "colab_type": "code",
        "colab": {}
      },
      "source": [
        "#!apt-get install openjdk-8-jdk-headless -qq > /dev/null\n",
        "#!wget -q http://www-eu.apache.org/dist/spark/spark-2.4.4/spark-2.4.4-bin-hadoop2.7.tgz\n",
        "#!tar xf spark-2.4.4-bin-hadoop2.7.tgz\n",
        "#!pip install -q findspark"
      ],
      "execution_count": 0,
      "outputs": []
    },
    {
      "cell_type": "code",
      "metadata": {
        "id": "bfgvWoW7gyFF",
        "colab_type": "code",
        "outputId": "acc96f74-82fa-4352-eb7e-e0a2896b6801",
        "colab": {
          "base_uri": "https://localhost:8080/",
          "height": 50
        }
      },
      "source": [
        "pip install pyspark"
      ],
      "execution_count": 41,
      "outputs": [
        {
          "output_type": "stream",
          "text": [
            "Requirement already satisfied: pyspark in /usr/local/lib/python3.6/dist-packages (2.4.5)\n",
            "Requirement already satisfied: py4j==0.10.7 in /usr/local/lib/python3.6/dist-packages (from pyspark) (0.10.7)\n"
          ],
          "name": "stdout"
        }
      ]
    },
    {
      "cell_type": "code",
      "metadata": {
        "id": "YVXpWijlh0pA",
        "colab_type": "code",
        "outputId": "517cbcde-3a8b-4ec1-bcfe-c23685e17253",
        "colab": {
          "base_uri": "https://localhost:8080/",
          "height": 33
        }
      },
      "source": [
        "pip install spark"
      ],
      "execution_count": 42,
      "outputs": [
        {
          "output_type": "stream",
          "text": [
            "Requirement already satisfied: spark in /usr/local/lib/python3.6/dist-packages (0.2.1)\n"
          ],
          "name": "stdout"
        }
      ]
    },
    {
      "cell_type": "code",
      "metadata": {
        "id": "f_XLLNYGhaU2",
        "colab_type": "code",
        "colab": {}
      },
      "source": [
        "from google.colab import files\n",
        "import pandas as pd\n",
        "import numpy as np\n",
        "import io\n",
        "from pyspark import SparkContext\n",
        "import pyspark\n",
        "import spark\n",
        "from collections import Counter\n",
        "from pyspark import SparkConf as scf\n",
        "from sklearn.feature_extraction.text import CountVectorizer"
      ],
      "execution_count": 0,
      "outputs": []
    },
    {
      "cell_type": "code",
      "metadata": {
        "id": "AMhSF37oiPqj",
        "colab_type": "code",
        "outputId": "598a5a5e-b146-406e-8bb1-3fd6cdb1d399",
        "colab": {
          "resources": {
            "http://localhost:8080/nbextensions/google.colab/files.js": {
              "data": "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",
              "ok": true,
              "headers": [
                [
                  "content-type",
                  "application/javascript"
                ]
              ],
              "status": 200,
              "status_text": ""
            }
          },
          "base_uri": "https://localhost:8080/",
          "height": 73
        }
      },
      "source": [
        "uploaded = files.upload()"
      ],
      "execution_count": 44,
      "outputs": [
        {
          "output_type": "display_data",
          "data": {
            "text/html": [
              "\n",
              "     <input type=\"file\" id=\"files-135cf4ad-afb4-461e-a406-96c770f6f4a3\" name=\"files[]\" multiple disabled />\n",
              "     <output id=\"result-135cf4ad-afb4-461e-a406-96c770f6f4a3\">\n",
              "      Upload widget is only available when the cell has been executed in the\n",
              "      current browser session. Please rerun this cell to enable.\n",
              "      </output>\n",
              "      <script src=\"/nbextensions/google.colab/files.js\"></script> "
            ],
            "text/plain": [
              "<IPython.core.display.HTML object>"
            ]
          },
          "metadata": {
            "tags": []
          }
        },
        {
          "output_type": "stream",
          "text": [
            "Saving rating.csv to rating (2).csv\n"
          ],
          "name": "stdout"
        }
      ]
    },
    {
      "cell_type": "code",
      "metadata": {
        "id": "FJv6LG21lM-w",
        "colab_type": "code",
        "colab": {}
      },
      "source": [
        "conf = scf().setMaster('local').setAppName('ParallelizedCollections')\n",
        "sc = SparkContext(conf = conf)"
      ],
      "execution_count": 0,
      "outputs": []
    },
    {
      "cell_type": "code",
      "metadata": {
        "id": "gd2t1quKmNL_",
        "colab_type": "code",
        "colab": {}
      },
      "source": [
        "from pyspark.sql import SparkSession\n",
        "spark = SparkSession.builder \\\n",
        "     .master(\"local\") \\\n",
        "     .appName(\"Word Count\") \\\n",
        "     .config(\"spark.some.config.option\", \"some-value\") \\\n",
        "     .getOrCreate()"
      ],
      "execution_count": 0,
      "outputs": []
    },
    {
      "cell_type": "code",
      "metadata": {
        "id": "7eNvaxDYhJ8F",
        "colab_type": "code",
        "outputId": "dc796030-2fc1-455d-f80f-3346afdfa744",
        "colab": {
          "base_uri": "https://localhost:8080/",
          "height": 450
        }
      },
      "source": [
        "file_location = \"rating.csv\"\n",
        "file_type = \"csv\"\n",
        "\n",
        "infer_schema = \"true\"\n",
        "first_row_is_header = \"true\"\n",
        "delimiter = \",\"\n",
        "\n",
        "df = spark.read.format(file_type) \\\n",
        "  .option(\"inferSchema\", infer_schema) \\\n",
        "  .option(\"header\", first_row_is_header) \\\n",
        "  .option(\"sep\", delimiter) \\\n",
        "  .load(file_location)\n",
        "\n",
        "df.show()"
      ],
      "execution_count": 48,
      "outputs": [
        {
          "output_type": "stream",
          "text": [
            "+-------+--------+------+\n",
            "|user_id|anime_id|rating|\n",
            "+-------+--------+------+\n",
            "|      1|      20|    -1|\n",
            "|      1|      24|    -1|\n",
            "|      1|      79|    -1|\n",
            "|      1|     226|    -1|\n",
            "|      1|     241|    -1|\n",
            "|      1|     355|    -1|\n",
            "|      1|     356|    -1|\n",
            "|      1|     442|    -1|\n",
            "|      1|     487|    -1|\n",
            "|      1|     846|    -1|\n",
            "|      1|     936|    -1|\n",
            "|      1|    1546|    -1|\n",
            "|      1|    1692|    -1|\n",
            "|      1|    1836|    -1|\n",
            "|      1|    2001|    -1|\n",
            "|      1|    2025|    -1|\n",
            "|      1|    2144|    -1|\n",
            "|      1|    2787|    -1|\n",
            "|      1|    2993|    -1|\n",
            "|      1|    3455|    -1|\n",
            "+-------+--------+------+\n",
            "only showing top 20 rows\n",
            "\n"
          ],
          "name": "stdout"
        }
      ]
    },
    {
      "cell_type": "code",
      "metadata": {
        "id": "hWN6Jghtlwcz",
        "colab_type": "code",
        "colab": {}
      },
      "source": [
        "temp_table_name = \"rating_csv\"\n",
        "\n",
        "df.createOrReplaceTempView(temp_table_name)"
      ],
      "execution_count": 0,
      "outputs": []
    },
    {
      "cell_type": "code",
      "metadata": {
        "id": "YMNvWyo8o5eo",
        "colab_type": "code",
        "colab": {}
      },
      "source": [
        "data_file = \"rating.csv\"\n",
        "raw_rdd = sc.textFile(data_file)"
      ],
      "execution_count": 0,
      "outputs": []
    },
    {
      "cell_type": "code",
      "metadata": {
        "id": "PYj5e9bFlY43",
        "colab_type": "code",
        "outputId": "0e34722b-7377-44ef-ce2f-d03ef5e33181",
        "colab": {
          "base_uri": "https://localhost:8080/",
          "height": 35
        }
      },
      "source": [
        "data_file = \"anime.csv\"\n",
        "raw_rdd = sc.textFile(data_file).cache()\n",
        "raw_rdd"
      ],
      "execution_count": 0,
      "outputs": [
        {
          "output_type": "execute_result",
          "data": {
            "text/plain": [
              "anime.csv MapPartitionsRDD[19] at textFile at NativeMethodAccessorImpl.java:0"
            ]
          },
          "metadata": {
            "tags": []
          },
          "execution_count": 13
        }
      ]
    },
    {
      "cell_type": "code",
      "metadata": {
        "id": "6jzmPtK9nmuf",
        "colab_type": "code",
        "outputId": "c78ce566-59b1-45a5-fcda-58720ccc546f",
        "colab": {
          "base_uri": "https://localhost:8080/",
          "height": 33
        }
      },
      "source": [
        "csv_rdd = raw_rdd.map(lambda row: row.split(\",\"))\n",
        "print(csv_rdd.take(5))"
      ],
      "execution_count": 58,
      "outputs": [
        {
          "output_type": "stream",
          "text": [
            "[['user_id', 'anime_id', 'rating'], ['1', '20', '-1'], ['1', '24', '-1'], ['1', '79', '-1'], ['1', '226', '-1']]\n"
          ],
          "name": "stdout"
        }
      ]
    },
    {
      "cell_type": "code",
      "metadata": {
        "id": "t_6cYGeAopgB",
        "colab_type": "code",
        "outputId": "fec497b6-e88e-41a2-e095-b46c6e4fb567",
        "colab": {
          "base_uri": "https://localhost:8080/",
          "height": 183
        }
      },
      "source": [
        "from pyspark.sql import Row\n",
        "\n",
        "anime_rdd = csv_rdd.map(lambda r: Row(\n",
        "  user_id=r[0],\n",
        "  anime_id=r[1],\n",
        "  rating=r[2]\n",
        "  )\n",
        ")\n",
        "anime_rdd.take(10)"
      ],
      "execution_count": 59,
      "outputs": [
        {
          "output_type": "execute_result",
          "data": {
            "text/plain": [
              "[Row(anime_id='anime_id', rating='rating', user_id='user_id'),\n",
              " Row(anime_id='20', rating='-1', user_id='1'),\n",
              " Row(anime_id='24', rating='-1', user_id='1'),\n",
              " Row(anime_id='79', rating='-1', user_id='1'),\n",
              " Row(anime_id='226', rating='-1', user_id='1'),\n",
              " Row(anime_id='241', rating='-1', user_id='1'),\n",
              " Row(anime_id='355', rating='-1', user_id='1'),\n",
              " Row(anime_id='356', rating='-1', user_id='1'),\n",
              " Row(anime_id='442', rating='-1', user_id='1'),\n",
              " Row(anime_id='487', rating='-1', user_id='1')]"
            ]
          },
          "metadata": {
            "tags": []
          },
          "execution_count": 59
        }
      ]
    },
    {
      "cell_type": "code",
      "metadata": {
        "id": "WsMb4VSGp8Lf",
        "colab_type": "code",
        "outputId": "e86fbed6-f3e4-4a5c-c939-01ced697a767",
        "colab": {
          "base_uri": "https://localhost:8080/",
          "height": 33
        }
      },
      "source": [
        "reviews_rdd = df.rdd.flatMap(lambda x: x)\n",
        "reviews_rdd.take(10)"
      ],
      "execution_count": 60,
      "outputs": [
        {
          "output_type": "execute_result",
          "data": {
            "text/plain": [
              "[1, 20, -1, 1, 24, -1, 1, 79, -1, 1]"
            ]
          },
          "metadata": {
            "tags": []
          },
          "execution_count": 60
        }
      ]
    },
    {
      "cell_type": "code",
      "metadata": {
        "id": "1LzVWYghLxNs",
        "colab_type": "code",
        "colab": {
          "base_uri": "https://localhost:8080/",
          "height": 347
        },
        "outputId": "118ac020-3ddc-4391-809d-95133e93d336"
      },
      "source": [
        "data = pd.read_csv('rating.csv')\n",
        "data.head(10)"
      ],
      "execution_count": 7,
      "outputs": [
        {
          "output_type": "execute_result",
          "data": {
            "text/html": [
              "<div>\n",
              "<style scoped>\n",
              "    .dataframe tbody tr th:only-of-type {\n",
              "        vertical-align: middle;\n",
              "    }\n",
              "\n",
              "    .dataframe tbody tr th {\n",
              "        vertical-align: top;\n",
              "    }\n",
              "\n",
              "    .dataframe thead th {\n",
              "        text-align: right;\n",
              "    }\n",
              "</style>\n",
              "<table border=\"1\" class=\"dataframe\">\n",
              "  <thead>\n",
              "    <tr style=\"text-align: right;\">\n",
              "      <th></th>\n",
              "      <th>user_id</th>\n",
              "      <th>anime_id</th>\n",
              "      <th>rating</th>\n",
              "    </tr>\n",
              "  </thead>\n",
              "  <tbody>\n",
              "    <tr>\n",
              "      <th>0</th>\n",
              "      <td>1</td>\n",
              "      <td>20</td>\n",
              "      <td>-1</td>\n",
              "    </tr>\n",
              "    <tr>\n",
              "      <th>1</th>\n",
              "      <td>1</td>\n",
              "      <td>24</td>\n",
              "      <td>-1</td>\n",
              "    </tr>\n",
              "    <tr>\n",
              "      <th>2</th>\n",
              "      <td>1</td>\n",
              "      <td>79</td>\n",
              "      <td>-1</td>\n",
              "    </tr>\n",
              "    <tr>\n",
              "      <th>3</th>\n",
              "      <td>1</td>\n",
              "      <td>226</td>\n",
              "      <td>-1</td>\n",
              "    </tr>\n",
              "    <tr>\n",
              "      <th>4</th>\n",
              "      <td>1</td>\n",
              "      <td>241</td>\n",
              "      <td>-1</td>\n",
              "    </tr>\n",
              "    <tr>\n",
              "      <th>5</th>\n",
              "      <td>1</td>\n",
              "      <td>355</td>\n",
              "      <td>-1</td>\n",
              "    </tr>\n",
              "    <tr>\n",
              "      <th>6</th>\n",
              "      <td>1</td>\n",
              "      <td>356</td>\n",
              "      <td>-1</td>\n",
              "    </tr>\n",
              "    <tr>\n",
              "      <th>7</th>\n",
              "      <td>1</td>\n",
              "      <td>442</td>\n",
              "      <td>-1</td>\n",
              "    </tr>\n",
              "    <tr>\n",
              "      <th>8</th>\n",
              "      <td>1</td>\n",
              "      <td>487</td>\n",
              "      <td>-1</td>\n",
              "    </tr>\n",
              "    <tr>\n",
              "      <th>9</th>\n",
              "      <td>1</td>\n",
              "      <td>846</td>\n",
              "      <td>-1</td>\n",
              "    </tr>\n",
              "  </tbody>\n",
              "</table>\n",
              "</div>"
            ],
            "text/plain": [
              "   user_id  anime_id  rating\n",
              "0        1        20      -1\n",
              "1        1        24      -1\n",
              "2        1        79      -1\n",
              "3        1       226      -1\n",
              "4        1       241      -1\n",
              "5        1       355      -1\n",
              "6        1       356      -1\n",
              "7        1       442      -1\n",
              "8        1       487      -1\n",
              "9        1       846      -1"
            ]
          },
          "metadata": {
            "tags": []
          },
          "execution_count": 7
        }
      ]
    },
    {
      "cell_type": "code",
      "metadata": {
        "id": "xahOyt8LIIei",
        "colab_type": "code",
        "colab": {}
      },
      "source": [
        "recorte = len(data)//50\n",
        "data = data.iloc[:recorte,:]\n",
        "data.to_csv(\"rating_split.csv\", index=False)\n",
        "reg = open(\"rating_split.csv\", \"r\").readlines()[1:]\n",
        "lista_datos=[]\n",
        "for datos in reg:\n",
        "    dat = datos.replace('\\n','')\n",
        "    lista_datos.append(dat)\n",
        "#lista_datos"
      ],
      "execution_count": 0,
      "outputs": []
    },
    {
      "cell_type": "markdown",
      "metadata": {
        "id": "FWzOoCcmtiRP",
        "colab_type": "text"
      },
      "source": [
        "Como observamos, recortamos nuestros datos, pues al realizar la búsqueda con los datos completos era demasiado tiempo el que se necesitaba para su ejecución."
      ]
    },
    {
      "cell_type": "markdown",
      "metadata": {
        "id": "YBA4CEA3PQcK",
        "colab_type": "text"
      },
      "source": [
        "Creamos nuestras bolsas"
      ]
    },
    {
      "cell_type": "code",
      "metadata": {
        "id": "CUnS7L2QKYaq",
        "colab_type": "code",
        "colab": {}
      },
      "source": [
        "v = CountVectorizer(lista_datos)\n",
        "bolsas = v.fit_transform(lista_datos)"
      ],
      "execution_count": 0,
      "outputs": []
    },
    {
      "cell_type": "markdown",
      "metadata": {
        "id": "795gmaaNPJr7",
        "colab_type": "text"
      },
      "source": [
        "## Creamos la función Indice Inverso\n",
        "Me he basado en la función que el Doctor ha proporcionado en clase."
      ]
    },
    {
      "cell_type": "code",
      "metadata": {
        "id": "OZd2E9hoK0QL",
        "colab_type": "code",
        "colab": {}
      },
      "source": [
        "class IndiceInverso:\n",
        "    def  __getitem__(self, idx):\n",
        "        return self.ifs[idx]\n",
        "\n",
        "    def recupera(self, l):\n",
        "        docs = Counter()\n",
        "        for (i,_) in l:\n",
        "            docs.update(self.ifs[i])\n",
        "\n",
        "        return docs\n",
        "\n",
        "    def from_csr(self, csr):\n",
        "        self.ifs = [[] for _ in range(csr.shape[1])]\n",
        "        coo = csr.tocoo()    \n",
        "        for i,j,v in zip(coo.row, coo.col, coo.data):\n",
        "            self.ifs[j].append(i)"
      ],
      "execution_count": 0,
      "outputs": []
    },
    {
      "cell_type": "code",
      "metadata": {
        "id": "RUYd95rZBXtn",
        "colab_type": "code",
        "colab": {}
      },
      "source": [
        "ifs = IndiceInverso()\n",
        "ifs.from_csr(bolsas)"
      ],
      "execution_count": 0,
      "outputs": []
    },
    {
      "cell_type": "code",
      "metadata": {
        "id": "IKK_-DscLYZu",
        "colab_type": "code",
        "colab": {}
      },
      "source": [
        "def csr_to_ldb(csr):\n",
        "    ldb = [[] for _ in range(csr.shape[0])]\n",
        "    coo = csr.tocoo()    \n",
        "    for i,j,v in zip(coo.row, coo.col, coo.data):\n",
        "        ldb[i].append((j, v))\n",
        "\n",
        "    return ldb"
      ],
      "execution_count": 0,
      "outputs": []
    },
    {
      "cell_type": "markdown",
      "metadata": {
        "id": "ayIu6MUoQDTZ",
        "colab_type": "text"
      },
      "source": [
        "Realizamos consultas.\n",
        "\n",
        "En este caso tome 3 de los primeros valores dentro de nuestro dataframe y los añadí a una lista vacía."
      ]
    },
    {
      "cell_type": "code",
      "metadata": {
        "id": "0cYgh7cgK_W_",
        "colab_type": "code",
        "colab": {
          "base_uri": "https://localhost:8080/",
          "height": 66
        },
        "outputId": "e76c7d44-c514-489e-d699-2b5e2d7788e1"
      },
      "source": [
        "consultas =[]\n",
        "for i in lista_datos[2:5]:\n",
        "  print(i)\n",
        "  consultas.append(i)\n",
        "bc = v.transform(consultas)\n",
        "cl = csr_to_ldb(bc)"
      ],
      "execution_count": 13,
      "outputs": [
        {
          "output_type": "stream",
          "text": [
            "1,79,-1\n",
            "1,226,-1\n",
            "1,241,-1\n"
          ],
          "name": "stdout"
        }
      ]
    },
    {
      "cell_type": "markdown",
      "metadata": {
        "id": "Qi-DSMxFQULR",
        "colab_type": "text"
      },
      "source": [
        "Recuperamos de acuerdo a la lista creada anterior mente con las consultas."
      ]
    },
    {
      "cell_type": "code",
      "metadata": {
        "id": "K0gXUF4RLNA2",
        "colab_type": "code",
        "colab": {
          "base_uri": "https://localhost:8080/",
          "height": 66
        },
        "outputId": "b550053f-4d8b-438c-f696-da373e94fce1"
      },
      "source": [
        "for i in range(len(cl)):\n",
        "  recs = ifs.recupera(cl[i])\n",
        "  top = recs.most_common()[i]\n",
        "  print(lista_datos[top[0]])"
      ],
      "execution_count": 14,
      "outputs": [
        {
          "output_type": "stream",
          "text": [
            "1,79,-1\n",
            "4,226,-1\n",
            "54,241,-1\n"
          ],
          "name": "stdout"
        }
      ]
    },
    {
      "cell_type": "markdown",
      "metadata": {
        "id": "1QAob-q_RMXF",
        "colab_type": "text"
      },
      "source": [
        "# Buscando Usuarios Similares.\n",
        "\n",
        "Creamos las librerías para las distancias con ayuda del código visto en clase, posteriormente realizamos la funcion distancia que calculará las distintas distancias de acuerdo a lo que el usuario solicite y la función buscar, la cual realizará la búsqueda entre los datos."
      ]
    },
    {
      "cell_type": "code",
      "metadata": {
        "id": "Q39EX2yCMfii",
        "colab_type": "code",
        "colab": {}
      },
      "source": [
        "def fuerza_bruta(base, consulta, fd):\n",
        "    medidas = np.zeros(base.shape[0])\n",
        "    for i,x in enumerate(base):\n",
        "        medidas[i] = fd(consulta, x)\n",
        "    return medidas\n",
        "\n",
        "def similitud_jaccard(x, y):\n",
        "  x = x.toarray()[0]\n",
        "  y = y.toarray()[0]\n",
        "  inter = np.count_nonzero(x * y)\n",
        "  return inter / (np.count_nonzero(x) + np.count_nonzero(y) - inter)\n",
        "\n",
        "def similitud_minmax(x, y):\n",
        "  x = x.toarray()[0]\n",
        "  y = y.toarray()[0]\n",
        "  c = np.vstack((x,y))\n",
        "  mn = np.sum(np.min(c, axis=0))\n",
        "  mx = np.sum(np.max(c, axis=0))\n",
        "  return mn / mx\n",
        "\n",
        "def similitud_coseno(x, y):\n",
        "  x = x.toarray()[0]\n",
        "  y = y.toarray()[0]\n",
        "  return (x @ y) / (np.sqrt(x @ x) * np.sqrt(y @ y))\n",
        "\n",
        "def distancia(query, dist):\n",
        "  #De acuerdo con las fórmulas vistas en clase, podemos calcular cada una de las distancias\n",
        "  #de la siguiente manerá, el cálculo dependerá de la distancia que el usuario indique.\n",
        "  bolsa_busqueda = v.transform([query])\n",
        "  if dist == 'coseno':\n",
        "    sim = fuerza_bruta(bolsas[1:],bolsa_busqueda, similitud_coseno)\n",
        "  if dist == 'jaccard':\n",
        "    sim = fuerza_bruta(bolsas[1:], bolsa_busqueda, similitud_jaccard)\n",
        "  if dist == 'minmax':\n",
        "    sim = fuerza_bruta(bolsas[1:], bolsa_busqueda, similitud_minmax)\n",
        "  return sim\n",
        "  \n",
        "def busqueda(query, cant, dist,data):\n",
        "  user = set()\n",
        "  longitud = len(user)\n",
        "  lista=[]\n",
        "  x = 1\n",
        "  sim = distancia(query, dist)\n",
        "  while x <= len(lista_datos) and (longitud < cant):\n",
        "    indices = np.nanargmax(sim)+1\n",
        "    us = data.loc[indices,\"user_id\"]\n",
        "    if us not in user:\n",
        "      user.add(us)\n",
        "      lista.append(indices)\n",
        "      sim[indices-1]=0\n",
        "    x = x+1\n",
        "  return data.iloc[lista,:]"
      ],
      "execution_count": 0,
      "outputs": []
    },
    {
      "cell_type": "markdown",
      "metadata": {
        "id": "TxRK3pedrAGK",
        "colab_type": "text"
      },
      "source": [
        "## Probamos con las distintas distancias"
      ]
    },
    {
      "cell_type": "code",
      "metadata": {
        "id": "lOl-o-E6szZe",
        "colab_type": "code",
        "colab": {
          "base_uri": "https://localhost:8080/",
          "height": 833
        },
        "outputId": "8a68a46c-7eea-4231-ab92-c97d435ab9c6"
      },
      "source": [
        "#Distancias\n",
        "distancias = ['coseno', 'jaccard', 'minmax']\n",
        "for i in distancias:\n",
        "  print('\\n',i)\n",
        "  print(busqueda('3 ,527',5,i,data))"
      ],
      "execution_count": 18,
      "outputs": [
        {
          "output_type": "stream",
          "text": [
            "\n",
            " coseno\n"
          ],
          "name": "stdout"
        },
        {
          "output_type": "stream",
          "text": [
            "/usr/local/lib/python3.6/dist-packages/ipykernel_launcher.py:24: RuntimeWarning: invalid value encountered in true_divide\n"
          ],
          "name": "stderr"
        },
        {
          "output_type": "stream",
          "text": [
            "        user_id  anime_id  rating\n",
            "163           3       527       7\n",
            "365           5       527       6\n",
            "1328         13       527      -1\n",
            "2824         29       527       8\n",
            "3088         32       527      -1\n",
            "...         ...       ...     ...\n",
            "147328     1492       527      10\n",
            "148791     1500       527      10\n",
            "154579     1537       527      10\n",
            "155437     1549       527      10\n",
            "1             1        24      -1\n",
            "\n",
            "[198 rows x 3 columns]\n",
            "\n",
            " jaccard\n",
            "        user_id  anime_id  rating\n",
            "163           3       527       7\n",
            "365           5       527       6\n",
            "1328         13       527      -1\n",
            "2824         29       527       8\n",
            "3088         32       527      -1\n",
            "...         ...       ...     ...\n",
            "147328     1492       527      10\n",
            "148791     1500       527      10\n",
            "154579     1537       527      10\n",
            "155437     1549       527      10\n",
            "1             1        24      -1\n",
            "\n",
            "[198 rows x 3 columns]\n",
            "\n",
            " minmax\n",
            "        user_id  anime_id  rating\n",
            "163           3       527       7\n",
            "365           5       527       6\n",
            "1328         13       527      -1\n",
            "2824         29       527       8\n",
            "3088         32       527      -1\n",
            "...         ...       ...     ...\n",
            "147328     1492       527      10\n",
            "148791     1500       527      10\n",
            "154579     1537       527      10\n",
            "155437     1549       527      10\n",
            "1             1        24      -1\n",
            "\n",
            "[198 rows x 3 columns]\n"
          ],
          "name": "stdout"
        }
      ]
    },
    {
      "cell_type": "markdown",
      "metadata": {
        "id": "R4Yc43pzsdgD",
        "colab_type": "text"
      },
      "source": [
        "Este código ya lo había realizado, pero el día de ayer mientras terminaba de maquillar mi código para enviarlo me di cuenta que debía utilizar spark, comencé a realizarlo tanto en databricks como en colab, pero me confundí bastante con el manejo de spark y no pude concluirlo."
      ]
    },
    {
      "cell_type": "code",
      "metadata": {
        "id": "QTSyl7Qpsp-T",
        "colab_type": "code",
        "colab": {
          "base_uri": "https://localhost:8080/",
          "height": 50
        },
        "outputId": "63253134-0bbf-4c76-afbf-8a18a4a7f912"
      },
      "source": [
        "data = distancia('20','coseno')\n",
        "type(data)"
      ],
      "execution_count": 210,
      "outputs": [
        {
          "output_type": "stream",
          "text": [
            "/usr/local/lib/python3.6/dist-packages/ipykernel_launcher.py:24: RuntimeWarning: invalid value encountered in true_divide\n"
          ],
          "name": "stderr"
        },
        {
          "output_type": "execute_result",
          "data": {
            "text/plain": [
              "numpy.ndarray"
            ]
          },
          "metadata": {
            "tags": []
          },
          "execution_count": 210
        }
      ]
    },
    {
      "cell_type": "code",
      "metadata": {
        "id": "rwMxDpLr00nU",
        "colab_type": "code",
        "colab": {
          "base_uri": "https://localhost:8080/",
          "height": 50
        },
        "outputId": "0749e6d5-8067-4b20-9ab9-e30e8a3dc278"
      },
      "source": [
        "distancia('1 ,20','coseno')"
      ],
      "execution_count": 214,
      "outputs": [
        {
          "output_type": "stream",
          "text": [
            "/usr/local/lib/python3.6/dist-packages/ipykernel_launcher.py:24: RuntimeWarning: invalid value encountered in true_divide\n"
          ],
          "name": "stderr"
        },
        {
          "output_type": "stream",
          "text": [
            "<class 'numpy.ndarray'>\n"
          ],
          "name": "stdout"
        }
      ]
    },
    {
      "cell_type": "code",
      "metadata": {
        "id": "9Yf1CLrg1MjC",
        "colab_type": "code",
        "colab": {}
      },
      "source": [
        ""
      ],
      "execution_count": 0,
      "outputs": []
    }
  ]
}